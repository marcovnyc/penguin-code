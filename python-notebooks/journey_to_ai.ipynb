{
 "cells": [
  {
   "cell_type": "code",
   "execution_count": 1,
   "id": "b285b3ba-ff10-49e8-84d3-421a71f63090",
   "metadata": {
    "tags": []
   },
   "outputs": [
    {
     "name": "stdin",
     "output_type": "stream",
     "text": [
      "What is your question!  will i win the lottery?\n"
     ]
    },
    {
     "name": "stdout",
     "output_type": "stream",
     "text": [
      "  ##  \n",
      "The Magic 8 Ball Says!\n",
      "will i win the lottery?\n",
      "most likely\n",
      "You must listen and do as I say\n"
     ]
    }
   ],
   "source": [
    "import random\n",
    "answers = ['not today', 'come back later', 'don\\'t count on it', 'most likely', 'maybe', 'for sure']\n",
    "random_answer = random.choice(answers)\n",
    "\n",
    "question = input('What is your question! ')\n",
    "# print(random_answer)\n",
    "\n",
    "\n",
    "print('  ##  ')\n",
    "print('The Magic 8 Ball Says!')\n",
    "print(question)\n",
    "print(random_answer)\n",
    "print('You must listen and do as I say')\n"
   ]
  },
  {
   "cell_type": "code",
   "execution_count": 5,
   "id": "88a970a3-77e1-4b17-be15-4f73cf863350",
   "metadata": {
    "tags": []
   },
   "outputs": [
    {
     "name": "stdout",
     "output_type": "stream",
     "text": [
      "What is the favorite fruit of a parrot?\n",
      "1. orange\n",
      "2. banana\n",
      "3. grape\n",
      "4. cherry\n"
     ]
    },
    {
     "name": "stdin",
     "output_type": "stream",
     "text": [
      "Enter the number of your choice:  4\n"
     ]
    },
    {
     "name": "stdout",
     "output_type": "stream",
     "text": [
      "Correct! Well done!\n"
     ]
    }
   ],
   "source": [
    "import random\n",
    "\n",
    "def get_shuffled_choices(favorite, all_fruits):\n",
    "    \"\"\"Returns a shuffled list containing the favorite fruit and some other random fruits.\"\"\"\n",
    "    choices = [favorite]\n",
    "    while len(choices) < 4:  # Assuming we want 4 choices\n",
    "        fruit = random.choice(all_fruits)\n",
    "        if fruit not in choices:\n",
    "            choices.append(fruit)\n",
    "    random.shuffle(choices)\n",
    "    return choices\n",
    "\n",
    "# Dictionary of animals and their favorite fruits\n",
    "favorite_fruits = {\n",
    "    \"monkey\": \"banana\",\n",
    "    \"elephant\": \"apple\",\n",
    "    \"parrot\": \"cherry\",\n",
    "    \"koala\": \"eucalyptus\"  # Technically not a fruit, but for fun!\n",
    "}\n",
    "\n",
    "# List of all fruits (including some extras to offer as wrong choices)\n",
    "all_fruits = [\"banana\", \"apple\", \"cherry\", \"grape\", \"orange\", \"pear\", \"eucalyptus\"]\n",
    "\n",
    "# Randomly select an animal\n",
    "animal = random.choice(list(favorite_fruits.keys()))\n",
    "\n",
    "# Get shuffled fruit choices for the player\n",
    "choices = get_shuffled_choices(favorite_fruits[animal], all_fruits)\n",
    "\n",
    "# Present the choices to the player\n",
    "print(f\"What is the favorite fruit of a {animal}?\")\n",
    "for i, choice in enumerate(choices, 1):\n",
    "    print(f\"{i}. {choice}\")\n",
    "\n",
    "# Get the player's guess\n",
    "guess = int(input(\"Enter the number of your choice: \"))\n",
    "\n",
    "# Check the answer\n",
    "if choices[guess-1] == favorite_fruits[animal]:\n",
    "    print(\"Correct! Well done!\")\n",
    "else:\n",
    "    print(f\"Oops! A {animal} actually loves {favorite_fruits[animal]}.\")\n"
   ]
  },
  {
   "cell_type": "code",
   "execution_count": 7,
   "id": "cce69797-31fe-48e9-93f8-740f5a5e5b3a",
   "metadata": {},
   "outputs": [
    {
     "name": "stdout",
     "output_type": "stream",
     "text": [
      "Guess the word: rcrhey\n"
     ]
    },
    {
     "name": "stdin",
     "output_type": "stream",
     "text": [
      "Your guess:  cherry\n"
     ]
    },
    {
     "name": "stdout",
     "output_type": "stream",
     "text": [
      "Congratulations! That's correct.\n"
     ]
    }
   ],
   "source": [
    "import random\n",
    "\n",
    "def jumble_word(word):\n",
    "    word = list(word)  # Convert the word to a list of characters\n",
    "    random.shuffle(word)  # Shuffle the list of characters\n",
    "    return ''.join(word)  # Convert the list of characters back to a string\n",
    "\n",
    "# List of words for the game\n",
    "words = [\"apple\", \"banana\", \"cherry\", \"date\", \"elderberry\"]\n",
    "\n",
    "# Randomly select a word from the list\n",
    "selected_word = random.choice(words)\n",
    "\n",
    "# Jumble the selected word\n",
    "jumbled_word = jumble_word(selected_word)\n",
    "\n",
    "# Display the jumbled word to the player and ask for their guess\n",
    "print(f\"Guess the word: {jumbled_word}\")\n",
    "guess = input(\"Your guess: \")\n",
    "\n",
    "# Check the player's guess\n",
    "if guess == selected_word:\n",
    "    print(\"Congratulations! That's correct.\")\n",
    "else:\n",
    "    print(f\"Sorry, that's incorrect. The word was: {selected_word}\")"
   ]
  },
  {
   "cell_type": "code",
   "execution_count": 9,
   "id": "fed1dc79-a000-4948-8f85-c3c66f20fd4b",
   "metadata": {
    "tags": []
   },
   "outputs": [
    {
     "name": "stdout",
     "output_type": "stream",
     "text": [
      "Hey! I'm making a playlist of rock bands. Can you name a few of your favorites?\n"
     ]
    },
    {
     "ename": "KeyboardInterrupt",
     "evalue": "Interrupted by user",
     "output_type": "error",
     "traceback": [
      "\u001b[0;31m---------------------------------------------------------------------------\u001b[0m",
      "\u001b[0;31mKeyboardInterrupt\u001b[0m                         Traceback (most recent call last)",
      "\u001b[0;32m/tmp/ipykernel_18395/3793930955.py\u001b[0m in \u001b[0;36m<module>\u001b[0;34m\u001b[0m\n\u001b[1;32m     27\u001b[0m ]\n\u001b[1;32m     28\u001b[0m \u001b[0;34m\u001b[0m\u001b[0m\n\u001b[0;32m---> 29\u001b[0;31m \u001b[0mbands_entered\u001b[0m \u001b[0;34m=\u001b[0m \u001b[0mget_band_choice\u001b[0m\u001b[0;34m(\u001b[0m\u001b[0;34m)\u001b[0m\u001b[0;34m\u001b[0m\u001b[0;34m\u001b[0m\u001b[0m\n\u001b[0m\u001b[1;32m     30\u001b[0m \u001b[0msurprise_ticket\u001b[0m\u001b[0;34m(\u001b[0m\u001b[0mbands_entered\u001b[0m\u001b[0;34m,\u001b[0m \u001b[0mrock_en_espanol_bands_90s\u001b[0m\u001b[0;34m)\u001b[0m\u001b[0;34m\u001b[0m\u001b[0;34m\u001b[0m\u001b[0m\n",
      "\u001b[0;32m/tmp/ipykernel_18395/3793930955.py\u001b[0m in \u001b[0;36mget_band_choice\u001b[0;34m()\u001b[0m\n\u001b[1;32m      3\u001b[0m     \u001b[0mbands\u001b[0m \u001b[0;34m=\u001b[0m \u001b[0;34m[\u001b[0m\u001b[0;34m]\u001b[0m\u001b[0;34m\u001b[0m\u001b[0;34m\u001b[0m\u001b[0m\n\u001b[1;32m      4\u001b[0m     \u001b[0;32mwhile\u001b[0m \u001b[0;32mTrue\u001b[0m\u001b[0;34m:\u001b[0m\u001b[0;34m\u001b[0m\u001b[0;34m\u001b[0m\u001b[0m\n\u001b[0;32m----> 5\u001b[0;31m         \u001b[0mband\u001b[0m \u001b[0;34m=\u001b[0m \u001b[0minput\u001b[0m\u001b[0;34m(\u001b[0m\u001b[0;34m\"Enter a band name (or 'done' to finish): \"\u001b[0m\u001b[0;34m)\u001b[0m\u001b[0;34m.\u001b[0m\u001b[0mstrip\u001b[0m\u001b[0;34m(\u001b[0m\u001b[0;34m)\u001b[0m\u001b[0;34m\u001b[0m\u001b[0;34m\u001b[0m\u001b[0m\n\u001b[0m\u001b[1;32m      6\u001b[0m         \u001b[0;32mif\u001b[0m \u001b[0mband\u001b[0m\u001b[0;34m.\u001b[0m\u001b[0mlower\u001b[0m\u001b[0;34m(\u001b[0m\u001b[0;34m)\u001b[0m \u001b[0;34m==\u001b[0m \u001b[0;34m'done'\u001b[0m\u001b[0;34m:\u001b[0m\u001b[0;34m\u001b[0m\u001b[0;34m\u001b[0m\u001b[0m\n\u001b[1;32m      7\u001b[0m             \u001b[0;32mbreak\u001b[0m\u001b[0;34m\u001b[0m\u001b[0;34m\u001b[0m\u001b[0m\n",
      "\u001b[0;32m~/.virtualenvs/jupyter_lab/lib/python3.7/site-packages/ipykernel/kernelbase.py\u001b[0m in \u001b[0;36mraw_input\u001b[0;34m(self, prompt)\u001b[0m\n\u001b[1;32m   1179\u001b[0m             \u001b[0mself\u001b[0m\u001b[0;34m.\u001b[0m\u001b[0m_parent_ident\u001b[0m\u001b[0;34m[\u001b[0m\u001b[0;34m\"shell\"\u001b[0m\u001b[0;34m]\u001b[0m\u001b[0;34m,\u001b[0m\u001b[0;34m\u001b[0m\u001b[0;34m\u001b[0m\u001b[0m\n\u001b[1;32m   1180\u001b[0m             \u001b[0mself\u001b[0m\u001b[0;34m.\u001b[0m\u001b[0mget_parent\u001b[0m\u001b[0;34m(\u001b[0m\u001b[0;34m\"shell\"\u001b[0m\u001b[0;34m)\u001b[0m\u001b[0;34m,\u001b[0m\u001b[0;34m\u001b[0m\u001b[0;34m\u001b[0m\u001b[0m\n\u001b[0;32m-> 1181\u001b[0;31m             \u001b[0mpassword\u001b[0m\u001b[0;34m=\u001b[0m\u001b[0;32mFalse\u001b[0m\u001b[0;34m,\u001b[0m\u001b[0;34m\u001b[0m\u001b[0;34m\u001b[0m\u001b[0m\n\u001b[0m\u001b[1;32m   1182\u001b[0m         )\n\u001b[1;32m   1183\u001b[0m \u001b[0;34m\u001b[0m\u001b[0m\n",
      "\u001b[0;32m~/.virtualenvs/jupyter_lab/lib/python3.7/site-packages/ipykernel/kernelbase.py\u001b[0m in \u001b[0;36m_input_request\u001b[0;34m(self, prompt, ident, parent, password)\u001b[0m\n\u001b[1;32m   1217\u001b[0m             \u001b[0;32mexcept\u001b[0m \u001b[0mKeyboardInterrupt\u001b[0m\u001b[0;34m:\u001b[0m\u001b[0;34m\u001b[0m\u001b[0;34m\u001b[0m\u001b[0m\n\u001b[1;32m   1218\u001b[0m                 \u001b[0;31m# re-raise KeyboardInterrupt, to truncate traceback\u001b[0m\u001b[0;34m\u001b[0m\u001b[0;34m\u001b[0m\u001b[0;34m\u001b[0m\u001b[0m\n\u001b[0;32m-> 1219\u001b[0;31m                 \u001b[0;32mraise\u001b[0m \u001b[0mKeyboardInterrupt\u001b[0m\u001b[0;34m(\u001b[0m\u001b[0;34m\"Interrupted by user\"\u001b[0m\u001b[0;34m)\u001b[0m \u001b[0;32mfrom\u001b[0m \u001b[0;32mNone\u001b[0m\u001b[0;34m\u001b[0m\u001b[0;34m\u001b[0m\u001b[0m\n\u001b[0m\u001b[1;32m   1220\u001b[0m             \u001b[0;32mexcept\u001b[0m \u001b[0mException\u001b[0m\u001b[0;34m:\u001b[0m\u001b[0;34m\u001b[0m\u001b[0;34m\u001b[0m\u001b[0m\n\u001b[1;32m   1221\u001b[0m                 \u001b[0mself\u001b[0m\u001b[0;34m.\u001b[0m\u001b[0mlog\u001b[0m\u001b[0;34m.\u001b[0m\u001b[0mwarning\u001b[0m\u001b[0;34m(\u001b[0m\u001b[0;34m\"Invalid Message:\"\u001b[0m\u001b[0;34m,\u001b[0m \u001b[0mexc_info\u001b[0m\u001b[0;34m=\u001b[0m\u001b[0;32mTrue\u001b[0m\u001b[0;34m)\u001b[0m\u001b[0;34m\u001b[0m\u001b[0;34m\u001b[0m\u001b[0m\n",
      "\u001b[0;31mKeyboardInterrupt\u001b[0m: Interrupted by user"
     ]
    }
   ],
   "source": [
    "def get_band_choice():\n",
    "    print(\"Hey! I'm making a playlist of rock bands. Can you name a few of your favorites?\")\n",
    "    bands = []\n",
    "    while True:\n",
    "        band = input(\"Enter a band name (or 'done' to finish): \").strip()\n",
    "        if band.lower() == 'done':\n",
    "            break\n",
    "        bands.append(band)\n",
    "    return bands\n",
    "\n",
    "def surprise_ticket(bands_entered, rock_bands_90s):\n",
    "    matching_bands = [band for band in bands_entered if band in rock_bands_90s]\n",
    "    if matching_bands:\n",
    "        print(f\"Surprise! I got you a ticket to see {matching_bands[0]} live!\")\n",
    "    else:\n",
    "        print(\"You haven't mentioned any of the bands I had in mind...\")\n",
    "        surprise_band = random.choice(rock_bands_90s)\n",
    "        print(f\"But it's your lucky day! I'm surprising you with a ticket to see {surprise_band} live!\")\n",
    "\n",
    "import random\n",
    "\n",
    "rock_en_espanol_bands_90s = [\n",
    "    \"Soda Stereo\", \"Caifanes\", \"Héroes del Silencio\", \"Maná\", \"La Ley\",\n",
    "    \"Maldita Vecindad\", \"Los Fabulosos Cadillacs\", \"Los Auténticos Decadentes\",\n",
    "    \"Café Tacvba\", \"Enanitos Verdes\", \"Los Pericos\", \"Jaguares\",\n",
    "    \"Los Cafres\", \"Zoé\", \"Aterciopelados\"\n",
    "]\n",
    "\n",
    "bands_entered = get_band_choice()\n",
    "surprise_ticket(bands_entered, rock_en_espanol_bands_90s)\n"
   ]
  },
  {
   "cell_type": "code",
   "execution_count": null,
   "id": "d8832337-7e41-421c-af13-388c59ecafe5",
   "metadata": {},
   "outputs": [],
   "source": []
  }
 ],
 "metadata": {
  "kernelspec": {
   "display_name": "Python 3 (ipykernel)",
   "language": "python",
   "name": "python3"
  },
  "language_info": {
   "codemirror_mode": {
    "name": "ipython",
    "version": 3
   },
   "file_extension": ".py",
   "mimetype": "text/x-python",
   "name": "python",
   "nbconvert_exporter": "python",
   "pygments_lexer": "ipython3",
   "version": "3.7.3"
  }
 },
 "nbformat": 4,
 "nbformat_minor": 5
}
