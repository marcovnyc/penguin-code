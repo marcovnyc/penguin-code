{
 "cells": [
  {
   "cell_type": "code",
   "execution_count": 3,
   "id": "1dec6ec3-cabc-49f9-8e21-0ed752f1ee2a",
   "metadata": {
    "tags": []
   },
   "outputs": [
    {
     "name": "stdout",
     "output_type": "stream",
     "text": [
      "Khoor, Zruog!\n"
     ]
    }
   ],
   "source": [
    "## Caesar Cipher ##\n",
    "\n",
    "def caesar_cipher(text, shift):\n",
    "    encrypted_text = \"\"\n",
    "    for char in text:\n",
    "        if char.isalpha():\n",
    "            shifted = ord(char) + shift\n",
    "            if char.islower():\n",
    "                if shifted > ord('z'):\n",
    "                    shifted -= 26\n",
    "            elif char.isupper():\n",
    "                if shifted > ord('Z'):\n",
    "                    shifted -= 26\n",
    "            encrypted_text += chr(shifted)\n",
    "        else:\n",
    "            encrypted_text += char\n",
    "    return encrypted_text\n",
    "\n",
    "text = \"Hello, World!\"\n",
    "encrypted = caesar_cipher(text, 3)\n",
    "print(encrypted)\n"
   ]
  },
  {
   "cell_type": "code",
   "execution_count": 5,
   "id": "024baae3-5a0f-4c6c-86db-cdd57025c771",
   "metadata": {
    "tags": []
   },
   "outputs": [
    {
     "name": "stdout",
     "output_type": "stream",
     "text": [
      "!dlroW ,olleH\n"
     ]
    }
   ],
   "source": [
    "# Reverse Cipher\n",
    "def reverse_cipher(text):\n",
    "    return text[::-1]\n",
    "\n",
    "text = \"Hello, World!\"\n",
    "encrypted = reverse_cipher(text)\n",
    "print(encrypted)\n"
   ]
  },
  {
   "cell_type": "code",
   "execution_count": 7,
   "id": "4d468144-e1aa-4128-bc47-1e0d4969f679",
   "metadata": {
    "tags": []
   },
   "outputs": [
    {
     "name": "stdout",
     "output_type": "stream",
     "text": [
      "Hlo ol!el,Wrd\n"
     ]
    }
   ],
   "source": [
    "# Transposition Cipher\n",
    "def transposition_cipher(text):\n",
    "    return text[::2] + text[1::2]\n",
    "\n",
    "text = \"Hello, World!\"\n",
    "encrypted = transposition_cipher(text)\n",
    "print(encrypted)\n"
   ]
  },
  {
   "cell_type": "code",
   "execution_count": 9,
   "id": "9b9c610e-8788-4edb-bb43-49988ba6d5d3",
   "metadata": {
    "tags": []
   },
   "outputs": [
    {
     "name": "stdout",
     "output_type": "stream",
     "text": [
      "K tkde Ynnh wbl Wbkiwth, Teo'h sn on ofe ynn\n"
     ]
    }
   ],
   "source": [
    "# Substitution Cipher\n",
    "\n",
    "import random\n",
    "import string\n",
    "\n",
    "def simple_substitution_cipher(text):\n",
    "    alphabet = string.ascii_lowercase\n",
    "    shuffled = random.sample(alphabet, len(alphabet))\n",
    "    table = str.maketrans(alphabet + alphabet.upper(), ''.join(shuffled) + ''.join(shuffled).upper())\n",
    "    return text.translate(table)\n",
    "\n",
    "text = \"I like Zoos and Animals, Let's go to the zoo\"\n",
    "encrypted = simple_substitution_cipher(text)\n",
    "print(encrypted)\n"
   ]
  },
  {
   "cell_type": "code",
   "execution_count": 10,
   "id": "34a9e61f-0b24-474d-85ea-203a1ccbd37f",
   "metadata": {
    "tags": []
   },
   "outputs": [
    {
     "name": "stdout",
     "output_type": "stream",
     "text": [
      "Rijvs, Ambpb!\n"
     ]
    }
   ],
   "source": [
    "# Vigenere Cipher\n",
    "\n",
    "def vigenere_cipher(text, key):\n",
    "    encrypted_text = \"\"\n",
    "    key_len = len(key)\n",
    "    for i, char in enumerate(text):\n",
    "        if char.isalpha():\n",
    "            shift = ord(key[i % key_len].lower()) - ord('a')\n",
    "            shifted = ord(char) + shift\n",
    "            if char.islower():\n",
    "                if shifted > ord('z'):\n",
    "                    shifted -= 26\n",
    "            elif char.isupper():\n",
    "                if shifted > ord('Z'):\n",
    "                    shifted -= 26\n",
    "            encrypted_text += chr(shifted)\n",
    "        else:\n",
    "            encrypted_text += char\n",
    "    return encrypted_text\n",
    "\n",
    "text = \"Hello, World!\"\n",
    "encrypted = vigenere_cipher(text, \"KEY\")\n",
    "print(encrypted)\n"
   ]
  },
  {
   "cell_type": "code",
   "execution_count": 14,
   "id": "210563d3-02ef-407f-84b7-8dc958f86c26",
   "metadata": {
    "tags": []
   },
   "outputs": [
    {
     "name": "stdout",
     "output_type": "stream",
     "text": [
      "Encrypted: b'gAAAAABlHivlBXtmybqP4_rGMDLZgXwIGDfdaeRkOZRtZVaHZXVKHnX5hI81tQgclU3r8t2_O75ioAT8_23coA59lEhGOXhrx-yDOB8LccXnL8phBfOLs4l0wUnM015fNo7JHv9UCPtmZjirn1vypAXLEBu_KndZFQ=='\n",
      "Decrypted: Let the fox run in the rain and the Bear in the Sun\n"
     ]
    }
   ],
   "source": [
    "# AES Cryptography\n",
    "\n",
    "from cryptography.fernet import Fernet\n",
    "\n",
    "def aes_encryption(text):\n",
    "    key = Fernet.generate_key()\n",
    "    cipher_suite = Fernet(key)\n",
    "    cipher_text = cipher_suite.encrypt(text.encode())\n",
    "    return cipher_text, key\n",
    "\n",
    "def aes_decryption(cipher_text, key):\n",
    "    cipher_suite = Fernet(key)\n",
    "    decrypted_text = cipher_suite.decrypt(cipher_text).decode()\n",
    "    return decrypted_text\n",
    "\n",
    "text = \"Let the fox run in the rain and the Bear in the Sun\"\n",
    "encrypted, key = aes_encryption(text)\n",
    "print(f\"Encrypted: {encrypted}\")\n",
    "\n",
    "decrypted = aes_decryption(encrypted, key)\n",
    "print(f\"Decrypted: {decrypted}\")\n"
   ]
  },
  {
   "cell_type": "code",
   "execution_count": null,
   "id": "6d4611e8-05fe-4de9-802e-2f1b3a7c6b52",
   "metadata": {},
   "outputs": [],
   "source": []
  }
 ],
 "metadata": {
  "kernelspec": {
   "display_name": "Python 3 (ipykernel)",
   "language": "python",
   "name": "python3"
  },
  "language_info": {
   "codemirror_mode": {
    "name": "ipython",
    "version": 3
   },
   "file_extension": ".py",
   "mimetype": "text/x-python",
   "name": "python",
   "nbconvert_exporter": "python",
   "pygments_lexer": "ipython3",
   "version": "3.7.3"
  }
 },
 "nbformat": 4,
 "nbformat_minor": 5
}
